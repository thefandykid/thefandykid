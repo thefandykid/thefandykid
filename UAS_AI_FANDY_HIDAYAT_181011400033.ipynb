{
  "nbformat": 4,
  "nbformat_minor": 0,
  "metadata": {
    "colab": {
      "name": "UAS_AI_FANDY-HIDAYAT_181011400033.ipynb",
      "provenance": [],
      "collapsed_sections": [],
      "include_colab_link": true
    },
    "kernelspec": {
      "name": "python3",
      "display_name": "Python 3"
    }
  },
  "cells": [
    {
      "cell_type": "markdown",
      "metadata": {
        "id": "view-in-github",
        "colab_type": "text"
      },
      "source": [
        "<a href=\"https://colab.research.google.com/github/thefandykid/thefandykid/blob/main/UAS_AI_FANDY_HIDAYAT_181011400033.ipynb\" target=\"_parent\"><img src=\"https://colab.research.google.com/assets/colab-badge.svg\" alt=\"Open In Colab\"/></a>"
      ]
    },
    {
      "cell_type": "code",
      "metadata": {
        "id": "6fUPMBQaIssn",
        "colab": {
          "base_uri": "https://localhost:8080/"
        },
        "outputId": "7110a4cc-dad3-47be-8f5c-41e8894ac074"
      },
      "source": [
        "#Mount Drive\n",
        "from google.colab import drive\n",
        "drive.mount('/content/drive')"
      ],
      "execution_count": 1,
      "outputs": [
        {
          "output_type": "stream",
          "text": [
            "Mounted at /content/drive\n"
          ],
          "name": "stdout"
        }
      ]
    },
    {
      "cell_type": "code",
      "metadata": {
        "id": "a9YCqMtnI8iE"
      },
      "source": [
        "#load urls of images from Google Drive\n",
        "img_fandy = \"/content/drive/My Drive/UASImageProcessing/x.png\"\n",
        "img_circledot = \"/content/drive/My Drive/UASImageProcessing/o.png\""
      ],
      "execution_count": 15,
      "outputs": []
    },
    {
      "cell_type": "code",
      "metadata": {
        "id": "Z_ac-woQJJUA",
        "colab": {
          "base_uri": "https://localhost:8080/",
          "height": 473
        },
        "outputId": "b65d4cb8-ea25-46f7-ea9c-cdc7c53a87bf"
      },
      "source": [
        "from PIL import Image, ImageChops, ImageFilter\n",
        "from matplotlib import pyplot as plt\n",
        "\n",
        "#Create a PIL Image objects\n",
        "fandy = Image.open(img_fandy)\n",
        "circledot = Image.open(img_circledot)\n",
        "\n",
        "#Find out attributes of Image Objects\n",
        "print('size of the image: ', fandy.size, ' colour mode:', fandy.mode)\n",
        "print('size of the image: ', circledot.size, ' colour mode:', circledot.mode)\n",
        "\n",
        "#plot 2 images one besides the other\n",
        "plt.subplot(121), plt.imshow(fandy)\n",
        "plt.axis('off')\n",
        "plt.subplot(122), plt.imshow(circledot)\n",
        "plt.axis('off')\n",
        "\n",
        "#multiply images\n",
        "merged = ImageChops.multiply(fandy,circledot)\n",
        "\n",
        "#adding 2 images\n",
        "add = ImageChops.add(fandy,circledot)\n",
        "\n",
        "#convert colour mode\n",
        "greyscale = merged.convert('L')\n",
        "greyscale"
      ],
      "execution_count": 16,
      "outputs": [
        {
          "output_type": "stream",
          "text": [
            "size of the image:  (256, 256)  colour mode: RGB\n",
            "size of the image:  (256, 256)  colour mode: RGB\n"
          ],
          "name": "stdout"
        },
        {
          "output_type": "execute_result",
          "data": {
            "image/png": "[encoded data removed]",
            "text/plain": [
              "<PIL.Image.Image image mode=L size=256x256 at 0x7F15679B9510>"
            ]
          },
          "metadata": {
            "tags": []
          },
          "execution_count": 16
        },
        {
          "output_type": "display_data",
          "data": {
            "image/png": "[encoded data removed]",
            "text/plain": [
              "<Figure size 432x288 with 2 Axes>"
            ]
          },
          "metadata": {
            "tags": [],
            "needs_background": "light"
          }
        }
      ]
    },
    {
      "cell_type": "code",
      "metadata": {
        "id": "0Euc3erP4R8T",
        "colab": {
          "base_uri": "https://localhost:8080/"
        },
        "outputId": "50e11e52-d97f-4990-8971-3902098daa4b"
      },
      "source": [
        "#More Attributes\n",
        "image = merged\n",
        "\n",
        "print('image size: ' , image.size,\n",
        "      '\\ncolor mode: ' , image.mode,\n",
        "      '\\nimage width : ' , image.width, '| also represented by: ' , image.size[0],\n",
        "      '\\nimage height: ' , image.height, '| also represented by: ' , image.size[1],)"
      ],
      "execution_count": 17,
      "outputs": [
        {
          "output_type": "stream",
          "text": [
            "image size:  (256, 256) \n",
            "color mode:  RGB \n",
            "image width :  256 | also represented by:  256 \n",
            "image height:  256 | also represented by:  256\n"
          ],
          "name": "stdout"
        }
      ]
    }
  ]
}